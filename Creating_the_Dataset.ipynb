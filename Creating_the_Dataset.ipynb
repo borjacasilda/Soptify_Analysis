{
 "metadata": {
  "language_info": {
   "codemirror_mode": {
    "name": "ipython",
    "version": 3
   },
   "file_extension": ".py",
   "mimetype": "text/x-python",
   "name": "python",
   "nbconvert_exporter": "python",
   "pygments_lexer": "ipython3",
   "version": "3.7.4-final"
  },
  "orig_nbformat": 2,
  "kernelspec": {
   "name": "python3",
   "display_name": "Python 3",
   "language": "python"
  }
 },
 "nbformat": 4,
 "nbformat_minor": 2,
 "cells": [
  {
   "source": [
    "# CREATING THE DATASET SCRAPPED SINCE SPOTIFY API (SPOTIPY)\n",
    "\n",
    "For creating the dataset trough the Spotify API we are going to import the following libraries:"
   ],
   "cell_type": "markdown",
   "metadata": {}
  },
  {
   "cell_type": "code",
   "execution_count": 1,
   "metadata": {},
   "outputs": [],
   "source": [
    "import spotipy\n",
    "import spotipy.util as util\n",
    "import pandas as pd"
   ]
  },
  {
   "source": [
    "First of all we must register us in the spotify page for developers (https://developer.spotify.com/) for get our client ids to do requests to the API"
   ],
   "cell_type": "markdown",
   "metadata": {}
  },
  {
   "cell_type": "code",
   "execution_count": 2,
   "metadata": {},
   "outputs": [],
   "source": [
    "cid = 'your_client_id'\n",
    "secret= 'your_secret_id'\n",
    "\n",
    "token = spotipy.oauth2.SpotifyClientCredentials(client_id=cid, client_secret=secret)\n",
    "cache_token = token.get_access_token()\n",
    "sp = spotipy.Spotify(cache_token)"
   ]
  },
  {
   "source": [
    "When we do the requests we get metadata (If you want to see the metadata, use the \"metadata\" method that is inside the function that follows), so we must take the parts of the metadata in what we are interested to, so let's create a function that for one side gives us the list of songs that has a playlist and on the other it takes the information that interests us within the metadata for each song in the playlist."
   ],
   "cell_type": "markdown",
   "metadata": {}
  },
  {
   "cell_type": "code",
   "execution_count": 3,
   "metadata": {},
   "outputs": [],
   "source": [
    "def playlist_analyze(playlist_id):\n",
    "\n",
    "    columns = [\n",
    "        'artist_id', 'artist_name','track_id','track_name','album_id', 'album_name','danceability', 'energy', 'key', 'loudness', 'mode', 'speechiness',                             'acousticness', 'instrumentalness', 'liveness', 'valence', 'tempo', 'type', 'id', 'uri', 'track_href', 'analysis_url', 'duration_ms', 'time_signature',\n",
    "               ]\n",
    "\n",
    "    playlist_df = pd.DataFrame(columns=columns)\n",
    "\n",
    "    metadata = sp.playlist_tracks(playlist_id=playlist_id)['items']\n",
    "\n",
    "    features = {}\n",
    "\n",
    "    for track in metadata:\n",
    "        features['artist_id'] = track['track'][\"album\"]['artists'][0]['id']\n",
    "        features['artist_name'] = track['track'][\"album\"]['artists'][0]['name']\n",
    "        features['track_id'] = track['track']['id']\n",
    "        features['track_name'] = track['track']['name']\n",
    "        features['album_id'] =  track['track']['album']['id']\n",
    "        features['album_name'] = track['track']['album']['name']\n",
    "        audio_features = sp.audio_features(tracks=features['track_id'])[0]\n",
    "        for f in columns[6:]:\n",
    "            features[f] = audio_features[f]\n",
    "\n",
    "        track_df = pd.DataFrame(features, index = [0])\n",
    "        playlist_df = pd.concat([playlist_df, track_df], ignore_index=True)\n",
    "\n",
    "    del playlist_df['id']\n",
    "    del playlist_df['type']\n",
    "    \n",
    "    return playlist_df"
   ]
  },
  {
   "source": [
    "The API allows a limited number of requests, so when I tried to do a loop for running the function one time (or less times at least) and concantenate all the resultings Dataframes in only one, an error rises. Finally I have executed the function one time per list, and join all the dataframes into a list. It's boring and unefficient I know, but is the way that I found...\n",
    "\n",
    "At the same time that I create the frames, I add a label column with the genre of the playlist analyzed."
   ],
   "cell_type": "markdown",
   "metadata": {}
  },
  {
   "cell_type": "code",
   "execution_count": 5,
   "metadata": {},
   "outputs": [],
   "source": [
    "techno1 = playlist_analyze(playlist_id= '3P1cXwm04X20xZ6V31lsJy') # Pole group\n",
    "techno1['label'] = 'techno'\n",
    "\n",
    "techno2 = playlist_analyze(playlist_id= '4hdl30OKdcZT0QWFBeXCmN') # Dynamic reflection\n",
    "techno2['label'] = 'techno'\n",
    "\n",
    "techno3 = playlist_analyze(playlist_id= '1Ww4mV2yx1D5025YybX5Xs') # Float records Discography\n",
    "techno3['label'] = 'techno'\n",
    "\n",
    "techno4 = playlist_analyze(playlist_id= '16soM7EPPujoYoLfygQByw') # Illegal Alien Records\n",
    "techno4['label'] = 'techno'\n",
    "\n",
    "techno5 = playlist_analyze(playlist_id= '5jSEj702WC4Ag9Ky3rvxRn') # SNTS VXS\n",
    "techno5['label'] = 'techno'\n",
    "                     \n",
    "reggaeton1 =  playlist_analyze(playlist_id= '03sDEv7FN58Mb9CJOs1Tgn') # Reggaeton 2020\n",
    "reggaeton1['label'] = 'reggaeton'\n",
    "\n",
    "reggaeton2 =  playlist_analyze(playlist_id= '37i9dQZF1DX8SfyqmSFDwe') # Reggaeton classics               \n",
    "reggaeton2['label'] = 'reggaeton'\n",
    "\n",
    "reggaeton3 =  playlist_analyze(playlist_id= '3w74oguynJ5C2xBrQwZoha') # Reggaeton 2016/2017/2018         \n",
    "reggaeton3['label'] = 'reggaeton'\n",
    "\n",
    "reggaeton4 =  playlist_analyze(playlist_id= '1e5t2YFFF2AoQDjvlwwb46') # Reggaeton 2019           \n",
    "reggaeton4['label'] = 'reggaeton'\n",
    "\n",
    "reggaeton5 =  playlist_analyze(playlist_id= '7eTjBdjyTxMp5JTh3ClAzc') # Reggaeton 2014/2015 Verano 2015 Party Summer             \n",
    "reggaeton5['label'] = 'reggaeton'\n",
    "\n",
    "hiphop1 = playlist_analyze(playlist_id= '6GyVHGnKUkemc1EJKKd4nt') # Hip Hop 90's\n",
    "hiphop1['label'] = 'hip-hop'\n",
    "\n",
    "hiphop2 = playlist_analyze(playlist_id= '0VmmZTMTHafp1zdyHcBmsX') # Best Hip Hop 2000's Hits             \n",
    "hiphop2['label'] = 'hip-hop'\n",
    "\n",
    "hiphop3 = playlist_analyze(playlist_id= '2tmp6zVeKUeo7HqRHVI9UE') # hip hop 2010's~2020's           \n",
    "hiphop3['label'] = 'hip-hop'\n",
    "\n",
    "hiphop4 = playlist_analyze(playlist_id= '4MPXQ118FvaciMTiAweNK9') # french hip hop\n",
    "hiphop4['label'] = 'hip-hop'\n",
    "\n",
    "hiphop5 = playlist_analyze(playlist_id= '45gaAgCMLxB15QLW4AuhQ1') # Hip hop España              \n",
    "hiphop5['label'] = 'hip-hop'\n",
    "\n",
    "rock1 = playlist_analyze(playlist_id= '30KEBso4y7A8gZaZzccfes') # The Rolling Stones\n",
    "rock1['label'] = 'rock'\n",
    "\n",
    "rock2 = playlist_analyze(playlist_id= '40lF0q156Mia45i9SYl9uz') # Complete Led Zeppelin           \n",
    "rock2['label'] = 'rock'\n",
    "\n",
    "rock3 = playlist_analyze(playlist_id= '6mNsuJk3czAxfBtNKy5mB5') # Pearl Jam Complete              \n",
    "rock3['label'] = 'rock'\n",
    "\n",
    "rock4 = playlist_analyze(playlist_id= '6yvEgd1N7ZJrPcX4OVsCRo')  # Complete The Black Keys\n",
    "rock4['label'] = 'rock'\n",
    "\n",
    "rock5 = playlist_analyze(playlist_id= '1PZGLQ4XWoAzrZ2Nfjbqvr') # Blur Complete          \n",
    "rock5['label'] = 'rock'\n",
    "\n",
    "jazz1 = playlist_analyze(playlist_id= '4uXIzYKr0b3WUOWbrfMtii') # The Complete Dreyfus Jazz Recordings (L'Intégrale) (Michel Petrucciani)\n",
    "jazz1['label'] = 'jazz'\n",
    "\n",
    "jazz2 = playlist_analyze(playlist_id= '7dO4VJmUhpC8Zcl3k62IDI') # Keith Jarrett: The Complete ECM Recordings\n",
    "jazz2['label'] = 'jazz'\n",
    "\n",
    "jazz3 = playlist_analyze(playlist_id= '37i9dQZF1EFI0Kzb17qEYK') # Written By Miles Davis\n",
    "jazz3['label'] = 'jazz'\n",
    "\n",
    "jazz4 = playlist_analyze(playlist_id= '1MMimAMBN8um4dpuRqNc6q') # Slow Jazz - Chilling w/ Chet Baker          \n",
    "jazz4['label'] = 'jazz'\n",
    "\n",
    "jazz5 = playlist_analyze(playlist_id= '34qcFoFmM0tUyS4eFsOC4G') # Marcin Wasilewski Trio            \n",
    "jazz5['label'] = 'jazz'\n",
    "\n",
    "megalist_df = [techno1, techno2, techno3, techno4, techno5, reggaeton1, reggaeton2, reggaeton3, reggaeton4, reggaeton5, hiphop1, hiphop2, hiphop3, hiphop4, hiphop5, rock1, rock2, rock3, rock4, rock5, jazz1, jazz2, jazz3, jazz4, jazz5]"
   ]
  },
  {
   "source": [
    "The next step was join all the dataframes through a function, concatenation, and shuffle all the instances of the created dataframe."
   ],
   "cell_type": "markdown",
   "metadata": {}
  },
  {
   "cell_type": "code",
   "execution_count": 6,
   "metadata": {},
   "outputs": [
    {
     "output_type": "execute_result",
     "data": {
      "text/plain": [
       "                artist_id artist_name                track_id  \\\n",
       "0  56n1NeXsTOOxjX3Z4lVMTJ        SFDK  4HSUcBiPq6e9fsYv5q1yvg   \n",
       "1  1jLIRfWqZf402sVJzCVVNc   Go Hiyama  2q5Z0l8sJkvwTGIwVTq0nS   \n",
       "2  56n1NeXsTOOxjX3Z4lVMTJ        SFDK  4aWrVBft7jEHE10aADrg4p   \n",
       "3  7kaC28XGoTp1ViSZAA0iuX      Jossef  28TkGcDuxQlbjo6rJEjh7e   \n",
       "4  6Unmr1mmDxRqZY7jkSQOcg        Snts  2NIbNluHtEOlpYBuo0T7XV   \n",
       "\n",
       "                 track_name                album_id  \\\n",
       "0              El Niño Güei  1Nux8B69WySS5XMMprdgL3   \n",
       "1           C - Reeko Remix  5aHgA6VigO9vXotfvR9EdL   \n",
       "2         Sin Miedo a Vivir  0Tp6yhqsb5UekzoUSBtxZK   \n",
       "3                 Una Noche  3ixuEcCz3Cha9FTolbdmFM   \n",
       "4  NO JVSTIFIED RESENTMENTS  3AlgTOV86TxYwEcrDT4ozE   \n",
       "\n",
       "                             album_name  danceability  energy key  loudness  \\\n",
       "0                                  2005         0.873   0.508   6    -5.564   \n",
       "1                       Crispy Bites EP         0.743   0.949   1    -6.188   \n",
       "2  Sin Miedo a Vivir (Extended Version)         0.660   0.873   0    -7.349   \n",
       "3                             Una Noche         0.648   0.738   0    -4.903   \n",
       "4                        EVOKED RVPTVRE         0.388   0.998   6    -8.848   \n",
       "\n",
       "   ... instrumentalness  liveness  valence    tempo  \\\n",
       "0  ...                0    0.0609    0.694   89.956   \n",
       "1  ...            0.888    0.0309    0.326  138.028   \n",
       "2  ...                0    0.3170    0.759   97.038   \n",
       "3  ...         0.000511    0.0975    0.290  179.997   \n",
       "4  ...            0.655    0.5100    0.174  137.007   \n",
       "\n",
       "                                    uri  \\\n",
       "0  spotify:track:4HSUcBiPq6e9fsYv5q1yvg   \n",
       "1  spotify:track:2q5Z0l8sJkvwTGIwVTq0nS   \n",
       "2  spotify:track:4aWrVBft7jEHE10aADrg4p   \n",
       "3  spotify:track:28TkGcDuxQlbjo6rJEjh7e   \n",
       "4  spotify:track:2NIbNluHtEOlpYBuo0T7XV   \n",
       "\n",
       "                                          track_href  \\\n",
       "0  https://api.spotify.com/v1/tracks/4HSUcBiPq6e9...   \n",
       "1  https://api.spotify.com/v1/tracks/2q5Z0l8sJkvw...   \n",
       "2  https://api.spotify.com/v1/tracks/4aWrVBft7jEH...   \n",
       "3  https://api.spotify.com/v1/tracks/28TkGcDuxQlb...   \n",
       "4  https://api.spotify.com/v1/tracks/2NIbNluHtEOl...   \n",
       "\n",
       "                                        analysis_url duration_ms  \\\n",
       "0  https://api.spotify.com/v1/audio-analysis/4HSU...      289200   \n",
       "1  https://api.spotify.com/v1/audio-analysis/2q5Z...      396522   \n",
       "2  https://api.spotify.com/v1/audio-analysis/4aWr...      193013   \n",
       "3  https://api.spotify.com/v1/audio-analysis/28Tk...      192667   \n",
       "4  https://api.spotify.com/v1/audio-analysis/2NIb...      341733   \n",
       "\n",
       "  time_signature      label  \n",
       "0              4    hip-hop  \n",
       "1              4     techno  \n",
       "2              4    hip-hop  \n",
       "3              4  reggaeton  \n",
       "4              4     techno  \n",
       "\n",
       "[5 rows x 23 columns]"
      ],
      "text/html": "<div>\n<style scoped>\n    .dataframe tbody tr th:only-of-type {\n        vertical-align: middle;\n    }\n\n    .dataframe tbody tr th {\n        vertical-align: top;\n    }\n\n    .dataframe thead th {\n        text-align: right;\n    }\n</style>\n<table border=\"1\" class=\"dataframe\">\n  <thead>\n    <tr style=\"text-align: right;\">\n      <th></th>\n      <th>artist_id</th>\n      <th>artist_name</th>\n      <th>track_id</th>\n      <th>track_name</th>\n      <th>album_id</th>\n      <th>album_name</th>\n      <th>danceability</th>\n      <th>energy</th>\n      <th>key</th>\n      <th>loudness</th>\n      <th>...</th>\n      <th>instrumentalness</th>\n      <th>liveness</th>\n      <th>valence</th>\n      <th>tempo</th>\n      <th>uri</th>\n      <th>track_href</th>\n      <th>analysis_url</th>\n      <th>duration_ms</th>\n      <th>time_signature</th>\n      <th>label</th>\n    </tr>\n  </thead>\n  <tbody>\n    <tr>\n      <th>0</th>\n      <td>56n1NeXsTOOxjX3Z4lVMTJ</td>\n      <td>SFDK</td>\n      <td>4HSUcBiPq6e9fsYv5q1yvg</td>\n      <td>El Niño Güei</td>\n      <td>1Nux8B69WySS5XMMprdgL3</td>\n      <td>2005</td>\n      <td>0.873</td>\n      <td>0.508</td>\n      <td>6</td>\n      <td>-5.564</td>\n      <td>...</td>\n      <td>0</td>\n      <td>0.0609</td>\n      <td>0.694</td>\n      <td>89.956</td>\n      <td>spotify:track:4HSUcBiPq6e9fsYv5q1yvg</td>\n      <td>https://api.spotify.com/v1/tracks/4HSUcBiPq6e9...</td>\n      <td>https://api.spotify.com/v1/audio-analysis/4HSU...</td>\n      <td>289200</td>\n      <td>4</td>\n      <td>hip-hop</td>\n    </tr>\n    <tr>\n      <th>1</th>\n      <td>1jLIRfWqZf402sVJzCVVNc</td>\n      <td>Go Hiyama</td>\n      <td>2q5Z0l8sJkvwTGIwVTq0nS</td>\n      <td>C - Reeko Remix</td>\n      <td>5aHgA6VigO9vXotfvR9EdL</td>\n      <td>Crispy Bites EP</td>\n      <td>0.743</td>\n      <td>0.949</td>\n      <td>1</td>\n      <td>-6.188</td>\n      <td>...</td>\n      <td>0.888</td>\n      <td>0.0309</td>\n      <td>0.326</td>\n      <td>138.028</td>\n      <td>spotify:track:2q5Z0l8sJkvwTGIwVTq0nS</td>\n      <td>https://api.spotify.com/v1/tracks/2q5Z0l8sJkvw...</td>\n      <td>https://api.spotify.com/v1/audio-analysis/2q5Z...</td>\n      <td>396522</td>\n      <td>4</td>\n      <td>techno</td>\n    </tr>\n    <tr>\n      <th>2</th>\n      <td>56n1NeXsTOOxjX3Z4lVMTJ</td>\n      <td>SFDK</td>\n      <td>4aWrVBft7jEHE10aADrg4p</td>\n      <td>Sin Miedo a Vivir</td>\n      <td>0Tp6yhqsb5UekzoUSBtxZK</td>\n      <td>Sin Miedo a Vivir (Extended Version)</td>\n      <td>0.660</td>\n      <td>0.873</td>\n      <td>0</td>\n      <td>-7.349</td>\n      <td>...</td>\n      <td>0</td>\n      <td>0.3170</td>\n      <td>0.759</td>\n      <td>97.038</td>\n      <td>spotify:track:4aWrVBft7jEHE10aADrg4p</td>\n      <td>https://api.spotify.com/v1/tracks/4aWrVBft7jEH...</td>\n      <td>https://api.spotify.com/v1/audio-analysis/4aWr...</td>\n      <td>193013</td>\n      <td>4</td>\n      <td>hip-hop</td>\n    </tr>\n    <tr>\n      <th>3</th>\n      <td>7kaC28XGoTp1ViSZAA0iuX</td>\n      <td>Jossef</td>\n      <td>28TkGcDuxQlbjo6rJEjh7e</td>\n      <td>Una Noche</td>\n      <td>3ixuEcCz3Cha9FTolbdmFM</td>\n      <td>Una Noche</td>\n      <td>0.648</td>\n      <td>0.738</td>\n      <td>0</td>\n      <td>-4.903</td>\n      <td>...</td>\n      <td>0.000511</td>\n      <td>0.0975</td>\n      <td>0.290</td>\n      <td>179.997</td>\n      <td>spotify:track:28TkGcDuxQlbjo6rJEjh7e</td>\n      <td>https://api.spotify.com/v1/tracks/28TkGcDuxQlb...</td>\n      <td>https://api.spotify.com/v1/audio-analysis/28Tk...</td>\n      <td>192667</td>\n      <td>4</td>\n      <td>reggaeton</td>\n    </tr>\n    <tr>\n      <th>4</th>\n      <td>6Unmr1mmDxRqZY7jkSQOcg</td>\n      <td>Snts</td>\n      <td>2NIbNluHtEOlpYBuo0T7XV</td>\n      <td>NO JVSTIFIED RESENTMENTS</td>\n      <td>3AlgTOV86TxYwEcrDT4ozE</td>\n      <td>EVOKED RVPTVRE</td>\n      <td>0.388</td>\n      <td>0.998</td>\n      <td>6</td>\n      <td>-8.848</td>\n      <td>...</td>\n      <td>0.655</td>\n      <td>0.5100</td>\n      <td>0.174</td>\n      <td>137.007</td>\n      <td>spotify:track:2NIbNluHtEOlpYBuo0T7XV</td>\n      <td>https://api.spotify.com/v1/tracks/2NIbNluHtEOl...</td>\n      <td>https://api.spotify.com/v1/audio-analysis/2NIb...</td>\n      <td>341733</td>\n      <td>4</td>\n      <td>techno</td>\n    </tr>\n  </tbody>\n</table>\n<p>5 rows × 23 columns</p>\n</div>"
     },
     "metadata": {},
     "execution_count": 6
    }
   ],
   "source": [
    "def concatenation(list_df):\n",
    "    count = 0\n",
    "    for i in list_df:\n",
    "        if count == 0:\n",
    "            df = i\n",
    "            count += 1\n",
    "        else:\n",
    "            df = df.append(i)\n",
    "            \n",
    "    df = df.sample(frac=1).reset_index(drop=True) \n",
    "\n",
    "    return df\n",
    "\n",
    "atracks = concatenation(list_df=megalist_df)\n",
    "\n",
    "atracks.head()"
   ]
  },
  {
   "source": [
    "Finally, we are going to put the data into a CSV document."
   ],
   "cell_type": "markdown",
   "metadata": {}
  },
  {
   "cell_type": "code",
   "execution_count": 7,
   "metadata": {},
   "outputs": [],
   "source": [
    "atracks.to_csv('spotify_tracks', index=True)"
   ]
  }
 ]
}